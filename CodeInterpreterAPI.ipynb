{
  "nbformat": 4,
  "nbformat_minor": 0,
  "metadata": {
    "colab": {
      "provenance": [],
      "authorship_tag": "ABX9TyMVkfr6RBOOiRAHcF0RDP2B",
      "include_colab_link": true
    },
    "kernelspec": {
      "name": "python3",
      "display_name": "Python 3"
    },
    "language_info": {
      "name": "python"
    }
  },
  "cells": [
    {
      "cell_type": "markdown",
      "metadata": {
        "id": "view-in-github",
        "colab_type": "text"
      },
      "source": [
        "<a href=\"https://colab.research.google.com/github/karaage0703/openai-colab-notebooks/blob/main/CodeInterpreterAPI.ipynb\" target=\"_parent\"><img src=\"https://colab.research.google.com/assets/colab-badge.svg\" alt=\"Open In Colab\"/></a>"
      ]
    },
    {
      "cell_type": "markdown",
      "source": [
        "# Code Interpreter API Test"
      ],
      "metadata": {
        "id": "Gt17OVFBQADQ"
      }
    },
    {
      "cell_type": "markdown",
      "source": [
        "Setup"
      ],
      "metadata": {
        "id": "RK9i69NyQD1h"
      }
    },
    {
      "cell_type": "code",
      "execution_count": null,
      "metadata": {
        "id": "uu-ZcNvFP0Gj"
      },
      "outputs": [],
      "source": [
        "!pip install codeinterpreterapi"
      ]
    },
    {
      "cell_type": "code",
      "source": [
        "import os\n",
        "\n",
        "os.environ[\"OPENAI_API_KEY\"] = \"sk-xxxx\"\n",
        "os.environ[\"VERBOSE\"] = \"True\""
      ],
      "metadata": {
        "id": "J9tgGrnsQGkT"
      },
      "execution_count": null,
      "outputs": []
    },
    {
      "cell_type": "markdown",
      "source": [
        "Execute code interpreter api"
      ],
      "metadata": {
        "id": "T7o6sDiNRG0m"
      }
    },
    {
      "cell_type": "code",
      "source": [
        "from codeinterpreterapi import CodeInterpreterSession\n",
        "\n",
        "\n",
        "async with CodeInterpreterSession() as session:\n",
        "    response = await session.generate_response(\n",
        "        \"Plot a sin wave and show it to me.\"\n",
        "    )\n",
        "\n",
        "    print(\"AI: \", response.content)\n",
        "    for file in response.files:\n",
        "        file.show_image()"
      ],
      "metadata": {
        "id": "2MINETTMQsoJ"
      },
      "execution_count": null,
      "outputs": []
    }
  ]
}